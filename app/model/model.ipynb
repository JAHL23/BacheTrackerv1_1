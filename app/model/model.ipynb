{
 "cells": [
  {
   "cell_type": "code",
   "execution_count": 1,
   "id": "b39fbfcf-aa9b-451c-a6e1-1058a17159ad",
   "metadata": {},
   "outputs": [],
   "source": [
    "\n",
    "#Libraries\n",
    "\n",
    "import tensorflow as tf\n",
    "import os\n",
    "from tensorflow import keras\n",
    "\n",
    "import numpy as np\n",
    "from matplotlib import pyplot as plt\n",
    "\n",
    "import fastapi \n",
    "import imageio \n",
    "import cv2\n",
    "import imghdr\n",
    "\n",
    "\n",
    "#Librerias para el modelo\n",
    "from sklearn.model_selection import RepeatedKFold, cross_val_score\n",
    "from tensorflow.keras.wrappers.scikit_learn import KerasClassifier\n",
    "from sklearn.model_selection import train_test_split\n",
    "from sklearn.metrics import roc_curve, auc\n",
    "from tensorflow.keras import layers, models # type: ignore\n",
    "from tensorflow.keras.layers import Input   # type: ignore\n"
   ]
  },
  {
   "cell_type": "code",
   "execution_count": 2,
   "id": "093d623a",
   "metadata": {},
   "outputs": [
    {
     "name": "stdout",
     "output_type": "stream",
     "text": [
      "[PhysicalDevice(name='/physical_device:GPU:0', device_type='GPU')]\n"
     ]
    }
   ],
   "source": [
    "\n",
    "\n",
    "gpus = tf.config.list_physical_devices('GPU')\n",
    "print(gpus)\n"
   ]
  },
  {
   "cell_type": "code",
   "execution_count": 4,
   "id": "439f7ce5",
   "metadata": {},
   "outputs": [
    {
     "data": {
      "text/plain": [
       "((768, 512, 512, 3), (193, 512, 512, 3), (768,), (193,))"
      ]
     },
     "execution_count": 4,
     "metadata": {},
     "output_type": "execute_result"
    }
   ],
   "source": [
    "\n",
    "#Preprocesamiento de imagenes \n",
    "potholes_dir = './pothole_image_data/Pothole_Image_Data'\n",
    "road_dir ='./pothole_image_data/pp'\n",
    "\n",
    "#etiqutas \n",
    "def load_images(folder,label):\n",
    "    images=[]\n",
    "    labels=[]\n",
    "    for filename in os.listdir(folder):\n",
    "        img_path = os.path.join(folder,filename)\n",
    "        img= cv2.imread(img_path)\n",
    "        img= cv2.resize(img,(512,512))\n",
    "        img= img/255.0\n",
    "        images.append(img)\n",
    "        labels.append(label)\n",
    "    return images,labels\n",
    "\n",
    "\n",
    "pothole_img,pothole_lb = load_images(potholes_dir, 1) # 1 para baches\n",
    "\n",
    "road_surface_img, road_surface_lb = load_images(road_dir, 0)  # 0 para carretera\n",
    "\n",
    "\n",
    "# Combinar y dividir el dataset\n",
    "X = np.array(pothole_img + road_surface_img)\n",
    "y = np.array(pothole_lb + road_surface_lb)\n",
    "\n",
    "X_train, X_test, y_train, y_test = train_test_split(X, y, test_size=0.2, random_state=42)\n",
    "\n",
    "#Preprocesamiento para datos de entrenamiento\n",
    "X_train.shape, X_test.shape, y_train.shape, y_test.shape    \n",
    "\n"
   ]
  },
  {
   "cell_type": "code",
   "execution_count": 8,
   "id": "df0b9a01",
   "metadata": {},
   "outputs": [],
   "source": [
    "#Data augmentaton\n",
    "\n",
    "#Flujo de imagenes \n",
    "from tensorflow.keras.preprocessing.image import ImageDataGenerator  # type: ignore\n",
    "\n",
    "train_datagen = ImageDataGenerator(\n",
    "    rotation_range=20,\n",
    "    width_shift_range=0.2,\n",
    "    height_shift_range=0.2,\n",
    "    shear_range=0.15,\n",
    "    zoom_range=0.15,\n",
    "    horizontal_flip=True\n",
    "\n",
    ")\n",
    "\n",
    "validation_datagen = ImageDataGenerator()\n",
    "\n",
    "\n",
    "# Create a generator for validation data\n",
    "validation_generator = validation_datagen.flow(X_test, y_test, batch_size=32)\n",
    "#Generator for train data\n",
    "\n",
    "train_generator =train_datagen.flow(X_train,y_train,batch_size=32)\n",
    "\n"
   ]
  },
  {
   "cell_type": "code",
   "execution_count": null,
   "id": "37d440d2",
   "metadata": {},
   "outputs": [],
   "source": [
    "\n",
    "#Modelo base\n",
    "#le fallta tuneo\n",
    "\n",
    "#Creamos la CNN\n",
    "model = models.Sequential([\n",
    "    Input(shape=(256,256,3)),#Input layer\n",
    "    layers.Conv2D(32, (3, 3), activation='relu'),\n",
    "    layers.MaxPooling2D(pool_size=(2, 2)),\n",
    "    layers.Conv2D(64, (3, 3), activation='relu'),\n",
    "    layers.MaxPooling2D(pool_size=(2, 2)),\n",
    "    layers.Conv2D(128, (3, 3), activation='relu'),\n",
    "    layers.MaxPooling2D(pool_size=(2, 2)),\n",
    "    layers.Flatten(),\n",
    "    layers.Dense(128, activation='relu'),\n",
    "    layers.Dense(1, activation='sigmoid')  # Salida binaria\n",
    "])\n",
    "\n",
    "model.compile(optimizer='adam', loss='binary_crossentropy', metrics=['accuracy'])"
   ]
  },
  {
   "cell_type": "code",
   "execution_count": 6,
   "id": "e2c6f626",
   "metadata": {},
   "outputs": [],
   "source": [
    "model.save('modelapi_shitty.h5')"
   ]
  },
  {
   "cell_type": "code",
   "execution_count": 10,
   "id": "345fb31e",
   "metadata": {},
   "outputs": [
    {
     "name": "stdout",
     "output_type": "stream",
     "text": [
      "Epoch 1/10\n",
      "24/24 [==============================] - 16s 287ms/step - loss: 0.8483 - accuracy: 0.6198 - val_loss: 0.5579 - val_accuracy: 0.7760\n",
      "Epoch 2/10\n",
      "24/24 [==============================] - 7s 284ms/step - loss: 0.4660 - accuracy: 0.7878 - val_loss: 0.3864 - val_accuracy: 0.8385\n",
      "Epoch 3/10\n",
      "24/24 [==============================] - 7s 295ms/step - loss: 0.4520 - accuracy: 0.8008 - val_loss: 0.4477 - val_accuracy: 0.8385\n",
      "Epoch 4/10\n",
      "24/24 [==============================] - 7s 306ms/step - loss: 0.4460 - accuracy: 0.8112 - val_loss: 0.3518 - val_accuracy: 0.8698\n",
      "Epoch 5/10\n",
      "24/24 [==============================] - 7s 299ms/step - loss: 0.4126 - accuracy: 0.8242 - val_loss: 0.3553 - val_accuracy: 0.8802\n",
      "Epoch 6/10\n",
      "24/24 [==============================] - 7s 297ms/step - loss: 0.3772 - accuracy: 0.8385 - val_loss: 0.4183 - val_accuracy: 0.8542\n",
      "Epoch 7/10\n",
      "24/24 [==============================] - 7s 302ms/step - loss: 0.3855 - accuracy: 0.8411 - val_loss: 0.4400 - val_accuracy: 0.8594\n",
      "Epoch 8/10\n",
      "24/24 [==============================] - 7s 297ms/step - loss: 0.3534 - accuracy: 0.8555 - val_loss: 0.3289 - val_accuracy: 0.9010\n",
      "Epoch 9/10\n",
      "24/24 [==============================] - 7s 302ms/step - loss: 0.3358 - accuracy: 0.8646 - val_loss: 0.3313 - val_accuracy: 0.8646\n",
      "Epoch 10/10\n",
      "24/24 [==============================] - 7s 295ms/step - loss: 0.3142 - accuracy: 0.8737 - val_loss: 0.3106 - val_accuracy: 0.8854\n",
      "7/7 [==============================] - 0s 36ms/step - loss: 0.3092 - accuracy: 0.8860\n",
      "Test accuracy: 0.89\n"
     ]
    }
   ],
   "source": [
    "\n",
    "#Entrenar y evaluar el modelo\n",
    "\n",
    "history = model.fit(\n",
    "    train_generator,\n",
    "    steps_per_epoch=len(X_train) // 32,\n",
    "    epochs=10,\n",
    "    validation_data=validation_generator,\n",
    "    validation_steps=len(X_test) // 32\n",
    ")\n",
    "\n",
    "# Evaluación del modelo\n",
    "test_loss, test_accuracy = model.evaluate(X_test, y_test)\n",
    "print(f'Test accuracy: {test_accuracy:.2f}')\n"
   ]
  },
  {
   "cell_type": "code",
   "execution_count": 25,
   "id": "d5a5d462",
   "metadata": {},
   "outputs": [
    {
     "name": "stderr",
     "output_type": "stream",
     "text": [
      "C:\\Users\\herre\\AppData\\Local\\Temp\\ipykernel_28000\\523974004.py:26: DeprecationWarning: KerasClassifier is deprecated, use Sci-Keras (https://github.com/adriangb/scikeras) instead. See https://www.adriangb.com/scikeras/stable/migration.html for help migrating.\n",
      "  model = KerasClassifier(build_fn=create_model, epochs=10, batch_size=32, verbose=0)\n"
     ]
    },
    {
     "name": "stdout",
     "output_type": "stream",
     "text": [
      "WARNING:tensorflow:5 out of the last 15 calls to <function Model.make_test_function.<locals>.test_function at 0x00000241B6E42EE0> triggered tf.function retracing. Tracing is expensive and the excessive number of tracings could be due to (1) creating @tf.function repeatedly in a loop, (2) passing tensors with different shapes, (3) passing Python objects instead of tensors. For (1), please define your @tf.function outside of the loop. For (2), @tf.function has reduce_retracing=True option that can avoid unnecessary retracing. For (3), please refer to https://www.tensorflow.org/guide/function#controlling_retracing and https://www.tensorflow.org/api_docs/python/tf/function for  more details.\n",
      "WARNING:tensorflow:6 out of the last 16 calls to <function Model.make_test_function.<locals>.test_function at 0x00000241B6FFF430> triggered tf.function retracing. Tracing is expensive and the excessive number of tracings could be due to (1) creating @tf.function repeatedly in a loop, (2) passing tensors with different shapes, (3) passing Python objects instead of tensors. For (1), please define your @tf.function outside of the loop. For (2), @tf.function has reduce_retracing=True option that can avoid unnecessary retracing. For (3), please refer to https://www.tensorflow.org/guide/function#controlling_retracing and https://www.tensorflow.org/api_docs/python/tf/function for  more details.\n",
      "Cross-Validation Accuracy Scores: [0.40000001 0.60000002 0.60000002 0.5        0.60000002 0.40000001\n",
      " 0.60000002 0.69999999 0.40000001 0.69999999]\n",
      "Mean Accuracy: 0.5500000089406967\n",
      "Standard Deviation: 0.11180339754218994\n"
     ]
    }
   ],
   "source": [
    "import numpy as np\n",
    "from tensorflow.keras.wrappers.scikit_learn import KerasClassifier\n",
    "from sklearn.model_selection import KFold, cross_val_score\n",
    "from tensorflow.keras import models, layers, Input\n",
    "\n",
    "def create_model():\n",
    "    model = models.Sequential([\n",
    "        Input(shape=(256, 256, 3)),  # Capa de entrada\n",
    "        layers.Conv2D(32, (3, 3), activation='relu'),\n",
    "        layers.MaxPooling2D(pool_size=(2, 2)),\n",
    "        layers.Conv2D(64, (3, 3), activation='relu'),\n",
    "        layers.MaxPooling2D(pool_size=(2, 2)),\n",
    "        layers.Conv2D(128, (3, 3), activation='relu'),\n",
    "        layers.MaxPooling2D(pool_size=(2, 2)),\n",
    "        layers.Flatten(),\n",
    "        layers.Dense(128, activation='relu'),\n",
    "        layers.Dense(1, activation='sigmoid')  # Salida binaria\n",
    "    ])\n",
    "    model.compile(optimizer='adam', loss='binary_crossentropy', metrics=['accuracy'])\n",
    "    return model\n",
    "\n",
    "# Preparar los datos (ejemplo)\n",
    "X_train = np.random.rand(100, 256, 256, 3)\n",
    "y_train = np.random.randint(2, size=100)\n",
    "\n",
    "model = KerasClassifier(build_fn=create_model, epochs=10, batch_size=32, verbose=0)\n",
    "kfold = KFold(n_splits=10, shuffle=True, random_state=42)\n",
    "\n",
    "results = cross_val_score(model, X_train, y_train, cv=kfold)\n",
    "print(f'Cross-Validation Accuracy Scores: {results}')\n",
    "print(f'Mean Accuracy: {results.mean()}')\n",
    "print(f'Standard Deviation: {results.std()}')"
   ]
  }
 ],
 "metadata": {
  "kernelspec": {
   "display_name": "Python (nuevo_entorno)",
   "language": "python",
   "name": "nuevo_entorno"
  },
  "language_info": {
   "codemirror_mode": {
    "name": "ipython",
    "version": 3
   },
   "file_extension": ".py",
   "mimetype": "text/x-python",
   "name": "python",
   "nbconvert_exporter": "python",
   "pygments_lexer": "ipython3",
   "version": "3.8.20"
  }
 },
 "nbformat": 4,
 "nbformat_minor": 5
}
