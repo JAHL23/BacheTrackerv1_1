{
 "cells": [
  {
   "cell_type": "code",
   "execution_count": 8,
   "metadata": {},
   "outputs": [],
   "source": [
    "from fastapi import FastAPI, UploadFile, File\n",
    "from tensorflow.keras.models import load_model\n",
    "from tensorflow.keras.preprocessing import image\n",
    "import numpy as np\n",
    "import io\n",
    "from PIL import Image\n",
    "\n",
    "app = FastAPI()\n",
    "\n",
    "# Cargar el modelo\n",
    "model = load_model('./modelapi_shitty.h5')\n",
    "\n",
    "@app.post(\"/predict/\")\n",
    "async def predict(file: UploadFile = File(...)):\n",
    "    # Leer la imagen\n",
    "    contents = await file.read()\n",
    "    img = Image.open(io.BytesIO(contents))\n",
    "    img = img.resize((256, 256))\n",
    "    img_array = image.img_to_array(img)\n",
    "    img_array = np.expand_dims(img_array, axis=0)\n",
    "\n",
    "    # Hacer la predicción\n",
    "    prediction = model.predict(img_array)\n",
    "    predicted_class = int(prediction[0][0] > 0.5)\n",
    "\n",
    "    return {\"prediction\": predicted_class}\n",
    "\n",
    "# Ejecutar el servidor con: uvicorn main:app --reload"
   ]
  }
 ],
 "metadata": {
  "kernelspec": {
   "display_name": "tf",
   "language": "python",
   "name": "python3"
  },
  "language_info": {
   "codemirror_mode": {
    "name": "ipython",
    "version": 3
   },
   "file_extension": ".py",
   "mimetype": "text/x-python",
   "name": "python",
   "nbconvert_exporter": "python",
   "pygments_lexer": "ipython3",
   "version": "3.9.20"
  }
 },
 "nbformat": 4,
 "nbformat_minor": 2
}
